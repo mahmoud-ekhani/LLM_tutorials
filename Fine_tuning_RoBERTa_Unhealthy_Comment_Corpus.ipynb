{
  "cells": [
    {
      "cell_type": "markdown",
      "metadata": {
        "colab_type": "text",
        "id": "view-in-github"
      },
      "source": [
        "<a href=\"https://colab.research.google.com/github/mahmoud-ekhani/LLM_tutorials/blob/main/Fine_tuning_RoBERTa_Unhealthy_Comment_Corpus.ipynb\" target=\"_parent\"><img src=\"https://colab.research.google.com/assets/colab-badge.svg\" alt=\"Open In Colab\"/></a>"
      ]
    },
    {
      "cell_type": "markdown",
      "metadata": {
        "id": "p5Iuv7q7Dtg_"
      },
      "source": [
        "#The plan for fine-tuning RoBERTa with the UCC\n",
        "\n",
        "### 1. Set up\n",
        "- Install transformers and pytorch lightning and import required packages.\n",
        "- Loads UCC data and inspect it.\n",
        "\n",
        "### 2. Create a dataset\n",
        "\n",
        "- Load data into pytorch dataset\n",
        "\n",
        "### 3. Build the model\n",
        " - Create a new pytorch (lightning) model with the Hugging Face RoBERTa model and a multi-label classification head.\n",
        "\n",
        "### 4. Test model performance\n",
        "- Test model performance using the ROC AUC and same test-set used in the original paper."
      ]
    },
    {
      "cell_type": "code",
      "execution_count": 1,
      "metadata": {
        "id": "5_e0-rwAd22e"
      },
      "outputs": [
        {
          "name": "stdout",
          "output_type": "stream",
          "text": [
            "Sun Feb  9 01:19:27 2025       \n",
            "+---------------------------------------------------------------------------------------+\n",
            "| NVIDIA-SMI 535.171.04             Driver Version: 535.171.04   CUDA Version: 12.2     |\n",
            "|-----------------------------------------+----------------------+----------------------+\n",
            "| GPU  Name                 Persistence-M | Bus-Id        Disp.A | Volatile Uncorr. ECC |\n",
            "| Fan  Temp   Perf          Pwr:Usage/Cap |         Memory-Usage | GPU-Util  Compute M. |\n",
            "|                                         |                      |               MIG M. |\n",
            "|=========================================+======================+======================|\n",
            "|   0  Tesla V100-PCIE-16GB           On  | 00000001:00:00.0 Off |                  Off |\n",
            "| N/A   28C    P0              24W / 250W |      0MiB / 16384MiB |      0%      Default |\n",
            "|                                         |                      |                  N/A |\n",
            "+-----------------------------------------+----------------------+----------------------+\n",
            "|   1  Tesla V100-PCIE-16GB           On  | 00000002:00:00.0 Off |                  Off |\n",
            "| N/A   27C    P0              24W / 250W |      0MiB / 16384MiB |      0%      Default |\n",
            "|                                         |                      |                  N/A |\n",
            "+-----------------------------------------+----------------------+----------------------+\n",
            "|   2  Tesla V100-PCIE-16GB           On  | 00000003:00:00.0 Off |                  Off |\n",
            "| N/A   27C    P0              24W / 250W |      0MiB / 16384MiB |      0%      Default |\n",
            "|                                         |                      |                  N/A |\n",
            "+-----------------------------------------+----------------------+----------------------+\n",
            "|   3  Tesla V100-PCIE-16GB           On  | 00000004:00:00.0 Off |                  Off |\n",
            "| N/A   27C    P0              25W / 250W |      0MiB / 16384MiB |      0%      Default |\n",
            "|                                         |                      |                  N/A |\n",
            "+-----------------------------------------+----------------------+----------------------+\n",
            "                                                                                         \n",
            "+---------------------------------------------------------------------------------------+\n",
            "| Processes:                                                                            |\n",
            "|  GPU   GI   CI        PID   Type   Process name                            GPU Memory |\n",
            "|        ID   ID                                                             Usage      |\n",
            "|=======================================================================================|\n",
            "|  No running processes found                                                           |\n",
            "+---------------------------------------------------------------------------------------+\n"
          ]
        }
      ],
      "source": [
        "!nvidia-smi"
      ]
    },
    {
      "cell_type": "markdown",
      "metadata": {
        "id": "hXnkQSWWJ5dE"
      },
      "source": [
        "# Imports"
      ]
    },
    {
      "cell_type": "code",
      "execution_count": 2,
      "metadata": {
        "id": "zh8fsBTEmlSd"
      },
      "outputs": [
        {
          "name": "stdout",
          "output_type": "stream",
          "text": [
            "Looking in indexes: https://download.pytorch.org/whl/cu121\n",
            "Requirement already satisfied: torch in /home/azureuser/mambaforge/envs/llm/lib/python3.10/site-packages (2.5.1+cu121)\n",
            "Requirement already satisfied: filelock in /home/azureuser/mambaforge/envs/llm/lib/python3.10/site-packages (from torch) (3.17.0)\n",
            "Requirement already satisfied: typing-extensions>=4.8.0 in /home/azureuser/mambaforge/envs/llm/lib/python3.10/site-packages (from torch) (4.12.2)\n",
            "Requirement already satisfied: networkx in /home/azureuser/mambaforge/envs/llm/lib/python3.10/site-packages (from torch) (3.4.2)\n",
            "Requirement already satisfied: jinja2 in /home/azureuser/mambaforge/envs/llm/lib/python3.10/site-packages (from torch) (3.1.5)\n",
            "Requirement already satisfied: fsspec in /home/azureuser/mambaforge/envs/llm/lib/python3.10/site-packages (from torch) (2025.2.0)\n",
            "Requirement already satisfied: nvidia-cuda-nvrtc-cu12==12.1.105 in /home/azureuser/mambaforge/envs/llm/lib/python3.10/site-packages (from torch) (12.1.105)\n",
            "Requirement already satisfied: nvidia-cuda-runtime-cu12==12.1.105 in /home/azureuser/mambaforge/envs/llm/lib/python3.10/site-packages (from torch) (12.1.105)\n",
            "Requirement already satisfied: nvidia-cuda-cupti-cu12==12.1.105 in /home/azureuser/mambaforge/envs/llm/lib/python3.10/site-packages (from torch) (12.1.105)\n",
            "Requirement already satisfied: nvidia-cudnn-cu12==9.1.0.70 in /home/azureuser/mambaforge/envs/llm/lib/python3.10/site-packages (from torch) (9.1.0.70)\n",
            "Requirement already satisfied: nvidia-cublas-cu12==12.1.3.1 in /home/azureuser/mambaforge/envs/llm/lib/python3.10/site-packages (from torch) (12.1.3.1)\n",
            "Requirement already satisfied: nvidia-cufft-cu12==11.0.2.54 in /home/azureuser/mambaforge/envs/llm/lib/python3.10/site-packages (from torch) (11.0.2.54)\n",
            "Requirement already satisfied: nvidia-curand-cu12==10.3.2.106 in /home/azureuser/mambaforge/envs/llm/lib/python3.10/site-packages (from torch) (10.3.2.106)\n",
            "Requirement already satisfied: nvidia-cusolver-cu12==11.4.5.107 in /home/azureuser/mambaforge/envs/llm/lib/python3.10/site-packages (from torch) (11.4.5.107)\n",
            "Requirement already satisfied: nvidia-cusparse-cu12==12.1.0.106 in /home/azureuser/mambaforge/envs/llm/lib/python3.10/site-packages (from torch) (12.1.0.106)\n",
            "Requirement already satisfied: nvidia-nccl-cu12==2.21.5 in /home/azureuser/mambaforge/envs/llm/lib/python3.10/site-packages (from torch) (2.21.5)\n",
            "Requirement already satisfied: nvidia-nvtx-cu12==12.1.105 in /home/azureuser/mambaforge/envs/llm/lib/python3.10/site-packages (from torch) (12.1.105)\n",
            "Requirement already satisfied: triton==3.1.0 in /home/azureuser/mambaforge/envs/llm/lib/python3.10/site-packages (from torch) (3.1.0)\n",
            "Requirement already satisfied: sympy==1.13.1 in /home/azureuser/mambaforge/envs/llm/lib/python3.10/site-packages (from torch) (1.13.1)\n",
            "Requirement already satisfied: nvidia-nvjitlink-cu12 in /home/azureuser/mambaforge/envs/llm/lib/python3.10/site-packages (from nvidia-cusolver-cu12==11.4.5.107->torch) (12.1.105)\n",
            "Requirement already satisfied: mpmath<1.4,>=1.1.0 in /home/azureuser/mambaforge/envs/llm/lib/python3.10/site-packages (from sympy==1.13.1->torch) (1.3.0)\n",
            "Requirement already satisfied: MarkupSafe>=2.0 in /home/azureuser/mambaforge/envs/llm/lib/python3.10/site-packages (from jinja2->torch) (3.0.2)\n",
            "Note: you may need to restart the kernel to use updated packages.\n",
            "Requirement already satisfied: transformers in /home/azureuser/mambaforge/envs/llm/lib/python3.10/site-packages (4.48.2)\n",
            "Requirement already satisfied: filelock in /home/azureuser/mambaforge/envs/llm/lib/python3.10/site-packages (from transformers) (3.17.0)\n",
            "Requirement already satisfied: huggingface-hub<1.0,>=0.24.0 in /home/azureuser/mambaforge/envs/llm/lib/python3.10/site-packages/huggingface_hub-0.28.1-py3.8.egg (from transformers) (0.28.1)\n",
            "Requirement already satisfied: numpy>=1.17 in /home/azureuser/mambaforge/envs/llm/lib/python3.10/site-packages (from transformers) (1.26.4)\n",
            "Requirement already satisfied: packaging>=20.0 in /home/azureuser/mambaforge/envs/llm/lib/python3.10/site-packages (from transformers) (24.2)\n",
            "Requirement already satisfied: pyyaml>=5.1 in /home/azureuser/mambaforge/envs/llm/lib/python3.10/site-packages (from transformers) (6.0)\n",
            "Requirement already satisfied: regex!=2019.12.17 in /home/azureuser/mambaforge/envs/llm/lib/python3.10/site-packages (from transformers) (2024.11.6)\n",
            "Requirement already satisfied: requests in /home/azureuser/mambaforge/envs/llm/lib/python3.10/site-packages (from transformers) (2.32.3)\n",
            "Requirement already satisfied: tokenizers<0.22,>=0.21 in /home/azureuser/mambaforge/envs/llm/lib/python3.10/site-packages (from transformers) (0.21.0)\n",
            "Requirement already satisfied: safetensors>=0.4.1 in /home/azureuser/mambaforge/envs/llm/lib/python3.10/site-packages (from transformers) (0.5.2)\n",
            "Requirement already satisfied: tqdm>=4.27 in /home/azureuser/mambaforge/envs/llm/lib/python3.10/site-packages (from transformers) (4.67.1)\n",
            "Requirement already satisfied: fsspec>=2023.5.0 in /home/azureuser/mambaforge/envs/llm/lib/python3.10/site-packages (from huggingface-hub<1.0,>=0.24.0->transformers) (2025.2.0)\n",
            "Requirement already satisfied: typing-extensions>=3.7.4.3 in /home/azureuser/mambaforge/envs/llm/lib/python3.10/site-packages (from huggingface-hub<1.0,>=0.24.0->transformers) (4.12.2)\n",
            "Requirement already satisfied: charset_normalizer<4,>=2 in /home/azureuser/mambaforge/envs/llm/lib/python3.10/site-packages (from requests->transformers) (3.4.1)\n",
            "Requirement already satisfied: idna<4,>=2.5 in /home/azureuser/mambaforge/envs/llm/lib/python3.10/site-packages (from requests->transformers) (3.10)\n",
            "Requirement already satisfied: urllib3<3,>=1.21.1 in /home/azureuser/mambaforge/envs/llm/lib/python3.10/site-packages (from requests->transformers) (2.2.1)\n",
            "Requirement already satisfied: certifi>=2017.4.17 in /home/azureuser/mambaforge/envs/llm/lib/python3.10/site-packages (from requests->transformers) (2024.12.14)\n",
            "Note: you may need to restart the kernel to use updated packages.\n",
            "Collecting pytorch-lightning\n",
            "  Downloading pytorch_lightning-2.5.0.post0-py3-none-any.whl.metadata (21 kB)\n",
            "Requirement already satisfied: torch>=2.1.0 in /home/azureuser/mambaforge/envs/llm/lib/python3.10/site-packages (from pytorch-lightning) (2.5.1+cu121)\n",
            "Requirement already satisfied: tqdm>=4.57.0 in /home/azureuser/mambaforge/envs/llm/lib/python3.10/site-packages (from pytorch-lightning) (4.67.1)\n",
            "Requirement already satisfied: PyYAML>=5.4 in /home/azureuser/mambaforge/envs/llm/lib/python3.10/site-packages (from pytorch-lightning) (6.0)\n",
            "Requirement already satisfied: fsspec>=2022.5.0 in /home/azureuser/mambaforge/envs/llm/lib/python3.10/site-packages (from fsspec[http]>=2022.5.0->pytorch-lightning) (2025.2.0)\n",
            "Collecting torchmetrics>=0.7.0 (from pytorch-lightning)\n",
            "  Downloading torchmetrics-1.6.1-py3-none-any.whl.metadata (21 kB)\n",
            "Requirement already satisfied: packaging>=20.0 in /home/azureuser/mambaforge/envs/llm/lib/python3.10/site-packages (from pytorch-lightning) (24.2)\n",
            "Requirement already satisfied: typing-extensions>=4.4.0 in /home/azureuser/mambaforge/envs/llm/lib/python3.10/site-packages (from pytorch-lightning) (4.12.2)\n",
            "Collecting lightning-utilities>=0.10.0 (from pytorch-lightning)\n",
            "  Downloading lightning_utilities-0.12.0-py3-none-any.whl.metadata (5.6 kB)\n",
            "Requirement already satisfied: aiohttp!=4.0.0a0,!=4.0.0a1 in /home/azureuser/mambaforge/envs/llm/lib/python3.10/site-packages (from fsspec[http]>=2022.5.0->pytorch-lightning) (3.10.5)\n",
            "Requirement already satisfied: setuptools in /home/azureuser/mambaforge/envs/llm/lib/python3.10/site-packages (from lightning-utilities>=0.10.0->pytorch-lightning) (75.8.0)\n",
            "Requirement already satisfied: filelock in /home/azureuser/mambaforge/envs/llm/lib/python3.10/site-packages (from torch>=2.1.0->pytorch-lightning) (3.17.0)\n",
            "Requirement already satisfied: networkx in /home/azureuser/mambaforge/envs/llm/lib/python3.10/site-packages (from torch>=2.1.0->pytorch-lightning) (3.4.2)\n",
            "Requirement already satisfied: jinja2 in /home/azureuser/mambaforge/envs/llm/lib/python3.10/site-packages (from torch>=2.1.0->pytorch-lightning) (3.1.5)\n",
            "Requirement already satisfied: nvidia-cuda-nvrtc-cu12==12.1.105 in /home/azureuser/mambaforge/envs/llm/lib/python3.10/site-packages (from torch>=2.1.0->pytorch-lightning) (12.1.105)\n",
            "Requirement already satisfied: nvidia-cuda-runtime-cu12==12.1.105 in /home/azureuser/mambaforge/envs/llm/lib/python3.10/site-packages (from torch>=2.1.0->pytorch-lightning) (12.1.105)\n",
            "Requirement already satisfied: nvidia-cuda-cupti-cu12==12.1.105 in /home/azureuser/mambaforge/envs/llm/lib/python3.10/site-packages (from torch>=2.1.0->pytorch-lightning) (12.1.105)\n",
            "Requirement already satisfied: nvidia-cudnn-cu12==9.1.0.70 in /home/azureuser/mambaforge/envs/llm/lib/python3.10/site-packages (from torch>=2.1.0->pytorch-lightning) (9.1.0.70)\n",
            "Requirement already satisfied: nvidia-cublas-cu12==12.1.3.1 in /home/azureuser/mambaforge/envs/llm/lib/python3.10/site-packages (from torch>=2.1.0->pytorch-lightning) (12.1.3.1)\n",
            "Requirement already satisfied: nvidia-cufft-cu12==11.0.2.54 in /home/azureuser/mambaforge/envs/llm/lib/python3.10/site-packages (from torch>=2.1.0->pytorch-lightning) (11.0.2.54)\n",
            "Requirement already satisfied: nvidia-curand-cu12==10.3.2.106 in /home/azureuser/mambaforge/envs/llm/lib/python3.10/site-packages (from torch>=2.1.0->pytorch-lightning) (10.3.2.106)\n",
            "Requirement already satisfied: nvidia-cusolver-cu12==11.4.5.107 in /home/azureuser/mambaforge/envs/llm/lib/python3.10/site-packages (from torch>=2.1.0->pytorch-lightning) (11.4.5.107)\n",
            "Requirement already satisfied: nvidia-cusparse-cu12==12.1.0.106 in /home/azureuser/mambaforge/envs/llm/lib/python3.10/site-packages (from torch>=2.1.0->pytorch-lightning) (12.1.0.106)\n",
            "Requirement already satisfied: nvidia-nccl-cu12==2.21.5 in /home/azureuser/mambaforge/envs/llm/lib/python3.10/site-packages (from torch>=2.1.0->pytorch-lightning) (2.21.5)\n",
            "Requirement already satisfied: nvidia-nvtx-cu12==12.1.105 in /home/azureuser/mambaforge/envs/llm/lib/python3.10/site-packages (from torch>=2.1.0->pytorch-lightning) (12.1.105)\n",
            "Requirement already satisfied: triton==3.1.0 in /home/azureuser/mambaforge/envs/llm/lib/python3.10/site-packages (from torch>=2.1.0->pytorch-lightning) (3.1.0)\n",
            "Requirement already satisfied: sympy==1.13.1 in /home/azureuser/mambaforge/envs/llm/lib/python3.10/site-packages (from torch>=2.1.0->pytorch-lightning) (1.13.1)\n",
            "Requirement already satisfied: nvidia-nvjitlink-cu12 in /home/azureuser/mambaforge/envs/llm/lib/python3.10/site-packages (from nvidia-cusolver-cu12==11.4.5.107->torch>=2.1.0->pytorch-lightning) (12.1.105)\n",
            "Requirement already satisfied: mpmath<1.4,>=1.1.0 in /home/azureuser/mambaforge/envs/llm/lib/python3.10/site-packages (from sympy==1.13.1->torch>=2.1.0->pytorch-lightning) (1.3.0)\n",
            "Requirement already satisfied: numpy>1.20.0 in /home/azureuser/mambaforge/envs/llm/lib/python3.10/site-packages (from torchmetrics>=0.7.0->pytorch-lightning) (1.26.4)\n",
            "Requirement already satisfied: aiohappyeyeballs>=2.3.0 in /home/azureuser/mambaforge/envs/llm/lib/python3.10/site-packages (from aiohttp!=4.0.0a0,!=4.0.0a1->fsspec[http]>=2022.5.0->pytorch-lightning) (2.4.4)\n",
            "Requirement already satisfied: aiosignal>=1.1.2 in /home/azureuser/mambaforge/envs/llm/lib/python3.10/site-packages (from aiohttp!=4.0.0a0,!=4.0.0a1->fsspec[http]>=2022.5.0->pytorch-lightning) (1.3.2)\n",
            "Requirement already satisfied: attrs>=17.3.0 in /home/azureuser/mambaforge/envs/llm/lib/python3.10/site-packages (from aiohttp!=4.0.0a0,!=4.0.0a1->fsspec[http]>=2022.5.0->pytorch-lightning) (25.1.0)\n",
            "Requirement already satisfied: frozenlist>=1.1.1 in /home/azureuser/mambaforge/envs/llm/lib/python3.10/site-packages (from aiohttp!=4.0.0a0,!=4.0.0a1->fsspec[http]>=2022.5.0->pytorch-lightning) (1.5.0)\n",
            "Requirement already satisfied: multidict<7.0,>=4.5 in /home/azureuser/mambaforge/envs/llm/lib/python3.10/site-packages (from aiohttp!=4.0.0a0,!=4.0.0a1->fsspec[http]>=2022.5.0->pytorch-lightning) (6.1.0)\n",
            "Requirement already satisfied: yarl<2.0,>=1.0 in /home/azureuser/mambaforge/envs/llm/lib/python3.10/site-packages (from aiohttp!=4.0.0a0,!=4.0.0a1->fsspec[http]>=2022.5.0->pytorch-lightning) (1.7.2)\n",
            "Requirement already satisfied: async-timeout<5.0,>=4.0 in /home/azureuser/mambaforge/envs/llm/lib/python3.10/site-packages (from aiohttp!=4.0.0a0,!=4.0.0a1->fsspec[http]>=2022.5.0->pytorch-lightning) (4.0.3)\n",
            "Requirement already satisfied: MarkupSafe>=2.0 in /home/azureuser/mambaforge/envs/llm/lib/python3.10/site-packages (from jinja2->torch>=2.1.0->pytorch-lightning) (3.0.2)\n",
            "Requirement already satisfied: idna>=2.0 in /home/azureuser/mambaforge/envs/llm/lib/python3.10/site-packages (from yarl<2.0,>=1.0->aiohttp!=4.0.0a0,!=4.0.0a1->fsspec[http]>=2022.5.0->pytorch-lightning) (3.10)\n",
            "Downloading pytorch_lightning-2.5.0.post0-py3-none-any.whl (819 kB)\n",
            "\u001b[2K   \u001b[90m━━━━━━━━━━━━━━━━━━━━━━━━━━━━━━━━━━━━━━━━\u001b[0m \u001b[32m819.3/819.3 kB\u001b[0m \u001b[31m29.5 MB/s\u001b[0m eta \u001b[36m0:00:00\u001b[0m\n",
            "\u001b[?25hDownloading lightning_utilities-0.12.0-py3-none-any.whl (28 kB)\n",
            "Downloading torchmetrics-1.6.1-py3-none-any.whl (927 kB)\n",
            "\u001b[2K   \u001b[90m━━━━━━━━━━━━━━━━━━━━━━━━━━━━━━━━━━━━━━━━\u001b[0m \u001b[32m927.3/927.3 kB\u001b[0m \u001b[31m35.4 MB/s\u001b[0m eta \u001b[36m0:00:00\u001b[0m\n",
            "\u001b[?25hInstalling collected packages: lightning-utilities, torchmetrics, pytorch-lightning\n",
            "Successfully installed lightning-utilities-0.12.0 pytorch-lightning-2.5.0.post0 torchmetrics-1.6.1\n",
            "Note: you may need to restart the kernel to use updated packages.\n",
            "Requirement already satisfied: numpy in /home/azureuser/mambaforge/envs/llm/lib/python3.10/site-packages (1.26.4)\n",
            "Note: you may need to restart the kernel to use updated packages.\n",
            "Requirement already satisfied: pandas in /home/azureuser/mambaforge/envs/llm/lib/python3.10/site-packages (2.2.3)\n",
            "Requirement already satisfied: numpy>=1.22.4 in /home/azureuser/mambaforge/envs/llm/lib/python3.10/site-packages (from pandas) (1.26.4)\n",
            "Requirement already satisfied: python-dateutil>=2.8.2 in /home/azureuser/mambaforge/envs/llm/lib/python3.10/site-packages (from pandas) (2.9.0.post0)\n",
            "Requirement already satisfied: pytz>=2020.1 in /home/azureuser/mambaforge/envs/llm/lib/python3.10/site-packages (from pandas) (2024.1)\n",
            "Requirement already satisfied: tzdata>=2022.7 in /home/azureuser/mambaforge/envs/llm/lib/python3.10/site-packages (from pandas) (2023.3)\n",
            "Requirement already satisfied: six>=1.5 in /home/azureuser/mambaforge/envs/llm/lib/python3.10/site-packages (from python-dateutil>=2.8.2->pandas) (1.16.0)\n",
            "Note: you may need to restart the kernel to use updated packages.\n",
            "Requirement already satisfied: matplotlib in /home/azureuser/mambaforge/envs/llm/lib/python3.10/site-packages (3.10.0)\n",
            "Requirement already satisfied: contourpy>=1.0.1 in /home/azureuser/mambaforge/envs/llm/lib/python3.10/site-packages (from matplotlib) (1.3.1)\n",
            "Requirement already satisfied: cycler>=0.10 in /home/azureuser/mambaforge/envs/llm/lib/python3.10/site-packages (from matplotlib) (0.12.1)\n",
            "Requirement already satisfied: fonttools>=4.22.0 in /home/azureuser/mambaforge/envs/llm/lib/python3.10/site-packages (from matplotlib) (4.55.8)\n",
            "Requirement already satisfied: kiwisolver>=1.3.1 in /home/azureuser/mambaforge/envs/llm/lib/python3.10/site-packages (from matplotlib) (1.4.8)\n",
            "Requirement already satisfied: numpy>=1.23 in /home/azureuser/mambaforge/envs/llm/lib/python3.10/site-packages (from matplotlib) (1.26.4)\n",
            "Requirement already satisfied: packaging>=20.0 in /home/azureuser/mambaforge/envs/llm/lib/python3.10/site-packages (from matplotlib) (24.2)\n",
            "Requirement already satisfied: pillow>=8 in /home/azureuser/mambaforge/envs/llm/lib/python3.10/site-packages (from matplotlib) (11.1.0)\n",
            "Requirement already satisfied: pyparsing>=2.3.1 in /home/azureuser/mambaforge/envs/llm/lib/python3.10/site-packages (from matplotlib) (3.2.1)\n",
            "Requirement already satisfied: python-dateutil>=2.7 in /home/azureuser/mambaforge/envs/llm/lib/python3.10/site-packages (from matplotlib) (2.9.0.post0)\n",
            "Requirement already satisfied: six>=1.5 in /home/azureuser/mambaforge/envs/llm/lib/python3.10/site-packages (from python-dateutil>=2.7->matplotlib) (1.16.0)\n",
            "Note: you may need to restart the kernel to use updated packages.\n",
            "Requirement already satisfied: scikit-learn in /home/azureuser/mambaforge/envs/llm/lib/python3.10/site-packages (1.6.1)\n",
            "Requirement already satisfied: numpy>=1.19.5 in /home/azureuser/mambaforge/envs/llm/lib/python3.10/site-packages (from scikit-learn) (1.26.4)\n",
            "Requirement already satisfied: scipy>=1.6.0 in /home/azureuser/mambaforge/envs/llm/lib/python3.10/site-packages (from scikit-learn) (1.15.1)\n",
            "Requirement already satisfied: joblib>=1.2.0 in /home/azureuser/mambaforge/envs/llm/lib/python3.10/site-packages (from scikit-learn) (1.4.2)\n",
            "Requirement already satisfied: threadpoolctl>=3.1.0 in /home/azureuser/mambaforge/envs/llm/lib/python3.10/site-packages (from scikit-learn) (3.5.0)\n",
            "Note: you may need to restart the kernel to use updated packages.\n",
            "Collecting tensorboard\n",
            "  Downloading tensorboard-2.18.0-py3-none-any.whl.metadata (1.6 kB)\n",
            "Requirement already satisfied: absl-py>=0.4 in /home/azureuser/mambaforge/envs/llm/lib/python3.10/site-packages (from tensorboard) (2.1.0)\n",
            "Collecting grpcio>=1.48.2 (from tensorboard)\n",
            "  Downloading grpcio-1.70.0-cp310-cp310-manylinux_2_17_x86_64.manylinux2014_x86_64.whl.metadata (3.9 kB)\n",
            "Collecting markdown>=2.6.8 (from tensorboard)\n",
            "  Downloading Markdown-3.7-py3-none-any.whl.metadata (7.0 kB)\n",
            "Requirement already satisfied: numpy>=1.12.0 in /home/azureuser/mambaforge/envs/llm/lib/python3.10/site-packages (from tensorboard) (1.26.4)\n",
            "Requirement already satisfied: packaging in /home/azureuser/mambaforge/envs/llm/lib/python3.10/site-packages (from tensorboard) (24.2)\n",
            "Collecting protobuf!=4.24.0,>=3.19.6 (from tensorboard)\n",
            "  Downloading protobuf-5.29.3-cp38-abi3-manylinux2014_x86_64.whl.metadata (592 bytes)\n",
            "Requirement already satisfied: setuptools>=41.0.0 in /home/azureuser/mambaforge/envs/llm/lib/python3.10/site-packages (from tensorboard) (75.8.0)\n",
            "Requirement already satisfied: six>1.9 in /home/azureuser/mambaforge/envs/llm/lib/python3.10/site-packages (from tensorboard) (1.16.0)\n",
            "Collecting tensorboard-data-server<0.8.0,>=0.7.0 (from tensorboard)\n",
            "  Downloading tensorboard_data_server-0.7.2-py3-none-manylinux_2_31_x86_64.whl.metadata (1.1 kB)\n",
            "Collecting werkzeug>=1.0.1 (from tensorboard)\n",
            "  Downloading werkzeug-3.1.3-py3-none-any.whl.metadata (3.7 kB)\n",
            "Requirement already satisfied: MarkupSafe>=2.1.1 in /home/azureuser/mambaforge/envs/llm/lib/python3.10/site-packages (from werkzeug>=1.0.1->tensorboard) (3.0.2)\n",
            "Downloading tensorboard-2.18.0-py3-none-any.whl (5.5 MB)\n",
            "\u001b[2K   \u001b[90m━━━━━━━━━━━━━━━━━━━━━━━━━━━━━━━━━━━━━━━━\u001b[0m \u001b[32m5.5/5.5 MB\u001b[0m \u001b[31m99.6 MB/s\u001b[0m eta \u001b[36m0:00:00\u001b[0m\n",
            "\u001b[?25hDownloading grpcio-1.70.0-cp310-cp310-manylinux_2_17_x86_64.manylinux2014_x86_64.whl (5.9 MB)\n",
            "\u001b[2K   \u001b[90m━━━━━━━━━━━━━━━━━━━━━━━━━━━━━━━━━━━━━━━━\u001b[0m \u001b[32m5.9/5.9 MB\u001b[0m \u001b[31m97.0 MB/s\u001b[0m eta \u001b[36m0:00:00\u001b[0m\n",
            "\u001b[?25hDownloading Markdown-3.7-py3-none-any.whl (106 kB)\n",
            "Downloading protobuf-5.29.3-cp38-abi3-manylinux2014_x86_64.whl (319 kB)\n",
            "Downloading tensorboard_data_server-0.7.2-py3-none-manylinux_2_31_x86_64.whl (6.6 MB)\n",
            "\u001b[2K   \u001b[90m━━━━━━━━━━━━━━━━━━━━━━━━━━━━━━━━━━━━━━━━\u001b[0m \u001b[32m6.6/6.6 MB\u001b[0m \u001b[31m78.8 MB/s\u001b[0m eta \u001b[36m0:00:00\u001b[0m\n",
            "\u001b[?25hDownloading werkzeug-3.1.3-py3-none-any.whl (224 kB)\n",
            "Installing collected packages: werkzeug, tensorboard-data-server, protobuf, markdown, grpcio, tensorboard\n",
            "Successfully installed grpcio-1.70.0 markdown-3.7 protobuf-5.29.3 tensorboard-2.18.0 tensorboard-data-server-0.7.2 werkzeug-3.1.3\n",
            "Note: you may need to restart the kernel to use updated packages.\n"
          ]
        }
      ],
      "source": [
        "%pip install torch --index-url https://download.pytorch.org/whl/cu121\n",
        "%pip install transformers\n",
        "%pip install pytorch-lightning\n",
        "%pip install numpy\n",
        "%pip install pandas\n",
        "%pip install matplotlib\n",
        "%pip install scikit-learn\n",
        "%pip install tensorboard\n"
      ]
    },
    {
      "cell_type": "code",
      "execution_count": 3,
      "metadata": {
        "id": "j2KxatsLqQsd"
      },
      "outputs": [
        {
          "name": "stdout",
          "output_type": "stream",
          "text": [
            "PyTorch version: 2.5.1+cu121\n",
            "CUDA available: True\n",
            "GPU count: 4\n"
          ]
        }
      ],
      "source": [
        "import os\n",
        "import numpy as np\n",
        "import pandas as pd\n",
        "import matplotlib.pyplot as plt\n",
        "import torch\n",
        "import pytorch_lightning as pl\n",
        "from pytorch_lightning.callbacks import ModelCheckpoint, EarlyStopping\n",
        "from pytorch_lightning.loggers import TensorBoardLogger\n",
        "from transformers import (\n",
        "    AutoModel, \n",
        "    AutoTokenizer,\n",
        "    get_cosine_schedule_with_warmup\n",
        ")\n",
        "from torch.utils.data import Dataset, DataLoader\n",
        "from torch.optim import AdamW\n",
        "import torch.nn as nn\n",
        "import torch.nn.functional as F\n",
        "from sklearn import metrics\n",
        "from typing import Optional, Dict, List\n",
        "\n",
        "# Check versions and CUDA availability\n",
        "print(f\"PyTorch version: {torch.__version__}\")\n",
        "print(f\"CUDA available: {torch.cuda.is_available()}\")\n",
        "print(f\"GPU count: {torch.cuda.device_count()}\")"
      ]
    },
    {
      "cell_type": "code",
      "execution_count": 4,
      "metadata": {
        "id": "LYHit0GicSyU"
      },
      "outputs": [],
      "source": [
        "train_path = 'data/ucc/train.csv'\n",
        "val_path = 'data/ucc/val.csv'"
      ]
    },
    {
      "cell_type": "code",
      "execution_count": 5,
      "metadata": {
        "id": "_GMaDvSeoqBZ"
      },
      "outputs": [],
      "source": [
        "train_data = pd.read_csv(train_path)"
      ]
    },
    {
      "cell_type": "code",
      "execution_count": 6,
      "metadata": {
        "id": "MfM4nYV4pWr2"
      },
      "outputs": [
        {
          "data": {
            "text/html": [
              "<div>\n",
              "<style scoped>\n",
              "    .dataframe tbody tr th:only-of-type {\n",
              "        vertical-align: middle;\n",
              "    }\n",
              "\n",
              "    .dataframe tbody tr th {\n",
              "        vertical-align: top;\n",
              "    }\n",
              "\n",
              "    .dataframe thead th {\n",
              "        text-align: right;\n",
              "    }\n",
              "</style>\n",
              "<table border=\"1\" class=\"dataframe\">\n",
              "  <thead>\n",
              "    <tr style=\"text-align: right;\">\n",
              "      <th></th>\n",
              "      <th>_unit_id</th>\n",
              "      <th>_trusted_judgments</th>\n",
              "      <th>comment</th>\n",
              "      <th>antagonize</th>\n",
              "      <th>antagonize:confidence</th>\n",
              "      <th>condescending</th>\n",
              "      <th>condescending:confidence</th>\n",
              "      <th>dismissive</th>\n",
              "      <th>dismissive:confidence</th>\n",
              "      <th>generalisation</th>\n",
              "      <th>generalisation:confidence</th>\n",
              "      <th>generalisation_unfair</th>\n",
              "      <th>generalisation_unfair:confidence</th>\n",
              "      <th>healthy</th>\n",
              "      <th>healthy:confidence</th>\n",
              "      <th>hostile</th>\n",
              "      <th>hostile:confidence</th>\n",
              "      <th>sarcastic</th>\n",
              "      <th>sarcastic:confidence</th>\n",
              "    </tr>\n",
              "  </thead>\n",
              "  <tbody>\n",
              "    <tr>\n",
              "      <th>0</th>\n",
              "      <td>2319157561</td>\n",
              "      <td>4</td>\n",
              "      <td>Three marriages, several bankrupt periods, inh...</td>\n",
              "      <td>0</td>\n",
              "      <td>1.0000</td>\n",
              "      <td>0</td>\n",
              "      <td>1.0000</td>\n",
              "      <td>0</td>\n",
              "      <td>1.0000</td>\n",
              "      <td>0</td>\n",
              "      <td>1.0000</td>\n",
              "      <td>0.0</td>\n",
              "      <td>1.0</td>\n",
              "      <td>1</td>\n",
              "      <td>0.7578</td>\n",
              "      <td>0</td>\n",
              "      <td>0.7565</td>\n",
              "      <td>0</td>\n",
              "      <td>1.0000</td>\n",
              "    </tr>\n",
              "    <tr>\n",
              "      <th>1</th>\n",
              "      <td>1739464982</td>\n",
              "      <td>4</td>\n",
              "      <td>The sense of entitlement among high school 'jo...</td>\n",
              "      <td>0</td>\n",
              "      <td>0.7634</td>\n",
              "      <td>0</td>\n",
              "      <td>0.7634</td>\n",
              "      <td>0</td>\n",
              "      <td>0.7634</td>\n",
              "      <td>0</td>\n",
              "      <td>1.0000</td>\n",
              "      <td>0.0</td>\n",
              "      <td>1.0</td>\n",
              "      <td>1</td>\n",
              "      <td>0.7634</td>\n",
              "      <td>0</td>\n",
              "      <td>0.7634</td>\n",
              "      <td>0</td>\n",
              "      <td>0.7634</td>\n",
              "    </tr>\n",
              "    <tr>\n",
              "      <th>2</th>\n",
              "      <td>1739457583</td>\n",
              "      <td>5</td>\n",
              "      <td>So what? He was just stating the obvious.</td>\n",
              "      <td>0</td>\n",
              "      <td>0.8121</td>\n",
              "      <td>0</td>\n",
              "      <td>0.5928</td>\n",
              "      <td>0</td>\n",
              "      <td>0.8043</td>\n",
              "      <td>0</td>\n",
              "      <td>1.0000</td>\n",
              "      <td>0.0</td>\n",
              "      <td>1.0</td>\n",
              "      <td>1</td>\n",
              "      <td>0.6163</td>\n",
              "      <td>0</td>\n",
              "      <td>1.0000</td>\n",
              "      <td>0</td>\n",
              "      <td>1.0000</td>\n",
              "    </tr>\n",
              "    <tr>\n",
              "      <th>3</th>\n",
              "      <td>2319156950</td>\n",
              "      <td>40</td>\n",
              "      <td>If one is a Con, why yes, one would honk. Loud...</td>\n",
              "      <td>0</td>\n",
              "      <td>0.8508</td>\n",
              "      <td>0</td>\n",
              "      <td>0.8867</td>\n",
              "      <td>0</td>\n",
              "      <td>0.9239</td>\n",
              "      <td>0</td>\n",
              "      <td>0.8863</td>\n",
              "      <td>0.0</td>\n",
              "      <td>1.0</td>\n",
              "      <td>1</td>\n",
              "      <td>0.8508</td>\n",
              "      <td>0</td>\n",
              "      <td>0.9641</td>\n",
              "      <td>0</td>\n",
              "      <td>0.8868</td>\n",
              "    </tr>\n",
              "    <tr>\n",
              "      <th>4</th>\n",
              "      <td>2327196492</td>\n",
              "      <td>3</td>\n",
              "      <td>Ooohhh... It's Wendy Whiner... making sure to ...</td>\n",
              "      <td>0</td>\n",
              "      <td>1.0000</td>\n",
              "      <td>0</td>\n",
              "      <td>1.0000</td>\n",
              "      <td>0</td>\n",
              "      <td>1.0000</td>\n",
              "      <td>0</td>\n",
              "      <td>1.0000</td>\n",
              "      <td>0.0</td>\n",
              "      <td>1.0</td>\n",
              "      <td>1</td>\n",
              "      <td>1.0000</td>\n",
              "      <td>0</td>\n",
              "      <td>1.0000</td>\n",
              "      <td>0</td>\n",
              "      <td>1.0000</td>\n",
              "    </tr>\n",
              "  </tbody>\n",
              "</table>\n",
              "</div>"
            ],
            "text/plain": [
              "     _unit_id  _trusted_judgments  \\\n",
              "0  2319157561                   4   \n",
              "1  1739464982                   4   \n",
              "2  1739457583                   5   \n",
              "3  2319156950                  40   \n",
              "4  2327196492                   3   \n",
              "\n",
              "                                             comment  antagonize  \\\n",
              "0  Three marriages, several bankrupt periods, inh...           0   \n",
              "1  The sense of entitlement among high school 'jo...           0   \n",
              "2          So what? He was just stating the obvious.           0   \n",
              "3  If one is a Con, why yes, one would honk. Loud...           0   \n",
              "4  Ooohhh... It's Wendy Whiner... making sure to ...           0   \n",
              "\n",
              "   antagonize:confidence  condescending  condescending:confidence  dismissive  \\\n",
              "0                 1.0000              0                    1.0000           0   \n",
              "1                 0.7634              0                    0.7634           0   \n",
              "2                 0.8121              0                    0.5928           0   \n",
              "3                 0.8508              0                    0.8867           0   \n",
              "4                 1.0000              0                    1.0000           0   \n",
              "\n",
              "   dismissive:confidence  generalisation  generalisation:confidence  \\\n",
              "0                 1.0000               0                     1.0000   \n",
              "1                 0.7634               0                     1.0000   \n",
              "2                 0.8043               0                     1.0000   \n",
              "3                 0.9239               0                     0.8863   \n",
              "4                 1.0000               0                     1.0000   \n",
              "\n",
              "   generalisation_unfair  generalisation_unfair:confidence  healthy  \\\n",
              "0                    0.0                               1.0        1   \n",
              "1                    0.0                               1.0        1   \n",
              "2                    0.0                               1.0        1   \n",
              "3                    0.0                               1.0        1   \n",
              "4                    0.0                               1.0        1   \n",
              "\n",
              "   healthy:confidence  hostile  hostile:confidence  sarcastic  \\\n",
              "0              0.7578        0              0.7565          0   \n",
              "1              0.7634        0              0.7634          0   \n",
              "2              0.6163        0              1.0000          0   \n",
              "3              0.8508        0              0.9641          0   \n",
              "4              1.0000        0              1.0000          0   \n",
              "\n",
              "   sarcastic:confidence  \n",
              "0                1.0000  \n",
              "1                0.7634  \n",
              "2                1.0000  \n",
              "3                0.8868  \n",
              "4                1.0000  "
            ]
          },
          "execution_count": 6,
          "metadata": {},
          "output_type": "execute_result"
        }
      ],
      "source": [
        "train_data.head(5)"
      ]
    },
    {
      "cell_type": "markdown",
      "metadata": {
        "id": "GDdLgBECpnJ8"
      },
      "source": [
        "# inspect data"
      ]
    },
    {
      "cell_type": "code",
      "execution_count": 7,
      "metadata": {
        "id": "aN6M-KaApoRo"
      },
      "outputs": [
        {
          "data": {
            "text/plain": [
              "<Axes: >"
            ]
          },
          "execution_count": 7,
          "metadata": {},
          "output_type": "execute_result"
        },
        {
          "data": {
            "image/png": "[encoded data removed]",
            "text/plain": [
              "<Figure size 640x480 with 1 Axes>"
            ]
          },
          "metadata": {},
          "output_type": "display_data"
        }
      ],
      "source": [
        "train_data['unhealthy'] = np.where(train_data['healthy'] == 1, 0, 1)\n",
        "\n",
        "attributes = ['antagonize', 'condescending','dismissive','generalisation',\n",
        "              'generalisation_unfair','hostile','sarcastic','unhealthy']\n",
        "\n",
        "train_data[attributes].sum().plot.bar()"
      ]
    },
    {
      "cell_type": "markdown",
      "metadata": {
        "id": "ECq7VkvoqR4Q"
      },
      "source": [
        "# Dataset"
      ]
    },
    {
      "cell_type": "code",
      "execution_count": 8,
      "metadata": {
        "id": "WuDSi08sqVYe"
      },
      "outputs": [],
      "source": [
        "class UCCDataset(Dataset):\n",
        "    \"\"\"Dataset class for Unhealthy Comment Corpus (UCC)\n",
        "    \n",
        "    Args:\n",
        "        data_path (str): Path to the CSV data file\n",
        "        tokenizer: HuggingFace tokenizer\n",
        "        attributes (List[str]): List of target attributes to predict\n",
        "        max_token_len (int): Maximum token length for padding/truncation\n",
        "        sample (Optional[int]): Number of samples to use (for balanced sampling)\n",
        "    \"\"\"\n",
        "    def __init__(\n",
        "        self, \n",
        "        data_path: str,\n",
        "        tokenizer,\n",
        "        attributes: List[str],\n",
        "        max_token_len: int = 128,\n",
        "        sample: Optional[int] = 5000\n",
        "    ):\n",
        "        self.tokenizer = tokenizer\n",
        "        self.attributes = attributes\n",
        "        self.max_token_len = max_token_len\n",
        "        self.data = self._prepare_data(data_path, sample)\n",
        "\n",
        "    def _prepare_data(self, data_path: str, sample: Optional[int]) -> pd.DataFrame:\n",
        "        data = pd.read_csv(data_path)\n",
        "        data['unhealthy'] = np.where(data['healthy'] == 1, 0, 1)\n",
        "        \n",
        "        # Convert all attribute columns to float type\n",
        "        for attr in self.attributes:\n",
        "            data[attr] = data[attr].astype(float)\n",
        "            \n",
        "        if sample:\n",
        "            unhealthy = data[data[self.attributes].sum(axis=1) > 0]\n",
        "            clean = data[data[self.attributes].sum(axis=1) == 0]\n",
        "            return pd.concat([\n",
        "                unhealthy,\n",
        "                clean.sample(sample, random_state=42)\n",
        "            ]).reset_index(drop=True)\n",
        "        return data\n",
        "\n",
        "    def __len__(self) -> int:\n",
        "        return len(self.data)\n",
        "\n",
        "    def __getitem__(self, index: int) -> Dict[str, torch.Tensor]:\n",
        "        row = self.data.iloc[index]\n",
        "        \n",
        "        # Encode text\n",
        "        encoding = self.tokenizer(\n",
        "            str(row.comment),\n",
        "            add_special_tokens=True,\n",
        "            max_length=self.max_token_len,\n",
        "            padding='max_length',\n",
        "            truncation=True,\n",
        "            return_attention_mask=True,\n",
        "            return_tensors='pt'\n",
        "        )\n",
        "\n",
        "        # Get labels and ensure they are float type\n",
        "        labels = torch.tensor(\n",
        "            self.data.iloc[index][self.attributes].values.astype(float),\n",
        "            dtype=torch.float\n",
        "        )\n",
        "\n",
        "        return {\n",
        "            'input_ids': encoding['input_ids'].flatten(),\n",
        "            'attention_mask': encoding['attention_mask'].flatten(),\n",
        "            'labels': labels\n",
        "        }"
      ]
    },
    {
      "cell_type": "code",
      "execution_count": 9,
      "metadata": {
        "id": "N5TfbQjBrshN"
      },
      "outputs": [],
      "source": [
        "model_name = 'roberta-base'\n",
        "tokenizer = AutoTokenizer.from_pretrained(model_name)\n",
        "ucc_ds = UCCDataset(train_path, tokenizer, attributes=attributes, max_token_len=128)\n",
        "ucc_ds_val = UCCDataset(val_path, tokenizer, attributes=attributes, max_token_len=128, sample=None)"
      ]
    },
    {
      "cell_type": "code",
      "execution_count": 10,
      "metadata": {
        "id": "SIgBWoKvLWUj"
      },
      "outputs": [
        {
          "data": {
            "text/plain": [
              "{'input_ids': tensor([    0, 19897, 29846,     4,    38,    64,    75,   679, 46301,    74,\n",
              "          9802,   132,     9,    39,   308,    95,     7,  1471,   559,   332,\n",
              "             8,   146,  7064,   356,  1099,     4,   370,   214,   235,     6,\n",
              "         46301,    16,    10, 34759,     4,     2,     1,     1,     1,     1,\n",
              "             1,     1,     1,     1,     1,     1,     1,     1,     1,     1,\n",
              "             1,     1,     1,     1,     1,     1,     1,     1,     1,     1,\n",
              "             1,     1,     1,     1,     1,     1,     1,     1,     1,     1,\n",
              "             1,     1,     1,     1,     1,     1,     1,     1,     1,     1,\n",
              "             1,     1,     1,     1,     1,     1,     1,     1,     1,     1,\n",
              "             1,     1,     1,     1,     1,     1,     1,     1,     1,     1,\n",
              "             1,     1,     1,     1,     1,     1,     1,     1,     1,     1,\n",
              "             1,     1,     1,     1,     1,     1,     1,     1,     1,     1,\n",
              "             1,     1,     1,     1,     1,     1,     1,     1]),\n",
              " 'attention_mask': tensor([1, 1, 1, 1, 1, 1, 1, 1, 1, 1, 1, 1, 1, 1, 1, 1, 1, 1, 1, 1, 1, 1, 1, 1,\n",
              "         1, 1, 1, 1, 1, 1, 1, 1, 1, 1, 1, 1, 0, 0, 0, 0, 0, 0, 0, 0, 0, 0, 0, 0,\n",
              "         0, 0, 0, 0, 0, 0, 0, 0, 0, 0, 0, 0, 0, 0, 0, 0, 0, 0, 0, 0, 0, 0, 0, 0,\n",
              "         0, 0, 0, 0, 0, 0, 0, 0, 0, 0, 0, 0, 0, 0, 0, 0, 0, 0, 0, 0, 0, 0, 0, 0,\n",
              "         0, 0, 0, 0, 0, 0, 0, 0, 0, 0, 0, 0, 0, 0, 0, 0, 0, 0, 0, 0, 0, 0, 0, 0,\n",
              "         0, 0, 0, 0, 0, 0, 0, 0]),\n",
              " 'labels': tensor([0., 0., 0., 0., 0., 0., 0., 1.])}"
            ]
          },
          "execution_count": 10,
          "metadata": {},
          "output_type": "execute_result"
        }
      ],
      "source": [
        "ucc_ds.__getitem__(0)"
      ]
    },
    {
      "cell_type": "code",
      "execution_count": 11,
      "metadata": {
        "id": "AxG1q2R5sKe9"
      },
      "outputs": [
        {
          "data": {
            "text/plain": [
              "(torch.Size([8]), torch.Size([128]), torch.Size([128]))"
            ]
          },
          "execution_count": 11,
          "metadata": {},
          "output_type": "execute_result"
        }
      ],
      "source": [
        "ucc_ds.__getitem__(0)['labels'].shape, ucc_ds.__getitem__(0)['input_ids'].shape, ucc_ds.__getitem__(0)['attention_mask'].shape"
      ]
    },
    {
      "cell_type": "code",
      "execution_count": 12,
      "metadata": {
        "id": "E3piF8-ScLkB"
      },
      "outputs": [
        {
          "data": {
            "text/plain": [
              "9960"
            ]
          },
          "execution_count": 12,
          "metadata": {},
          "output_type": "execute_result"
        }
      ],
      "source": [
        "len(ucc_ds)"
      ]
    },
    {
      "cell_type": "code",
      "execution_count": 13,
      "metadata": {
        "id": "vdnNmd2ScreK"
      },
      "outputs": [
        {
          "data": {
            "text/plain": [
              "4427"
            ]
          },
          "execution_count": 13,
          "metadata": {},
          "output_type": "execute_result"
        }
      ],
      "source": [
        "len(ucc_ds_val)"
      ]
    },
    {
      "cell_type": "markdown",
      "metadata": {
        "id": "gUr-j36ctWH-"
      },
      "source": [
        "# Data module"
      ]
    },
    {
      "cell_type": "code",
      "execution_count": 26,
      "metadata": {},
      "outputs": [],
      "source": [
        "class UCCDataModule(pl.LightningDataModule):\n",
        "    \"\"\"PyTorch Lightning DataModule for UCC dataset\n",
        "    \n",
        "    Args:\n",
        "        train_path (str): Path to training data\n",
        "        val_path (str): Path to validation data\n",
        "        attributes (List[str]): Target attributes to predict\n",
        "        batch_size (int): Batch size for training\n",
        "        max_token_length (int): Maximum token length\n",
        "        model_name (str): HuggingFace model name\n",
        "        num_workers (int): Number of workers for DataLoader\n",
        "    \"\"\"\n",
        "    def __init__(\n",
        "        self,\n",
        "        train_path: str,\n",
        "        val_path: str,\n",
        "        attributes: List[str],\n",
        "        batch_size: int = 32,\n",
        "        max_token_length: int = 128,\n",
        "        model_name: str = 'roberta-base',\n",
        "        num_workers: int = 4\n",
        "    ):\n",
        "        super().__init__()\n",
        "        self.train_path = train_path\n",
        "        self.val_path = val_path\n",
        "        self.attributes = attributes\n",
        "        self.batch_size = batch_size\n",
        "        self.max_token_length = max_token_length\n",
        "        self.model_name = model_name\n",
        "        self.num_workers = num_workers\n",
        "        self.tokenizer = AutoTokenizer.from_pretrained(model_name)\n",
        "        \n",
        "    def setup(self, stage: Optional[str] = None):\n",
        "        if stage in (None, \"fit\"):\n",
        "            self.train_dataset = UCCDataset(\n",
        "                self.train_path,\n",
        "                self.tokenizer,\n",
        "                self.attributes\n",
        "            )\n",
        "            self.val_dataset = UCCDataset(\n",
        "                self.val_path,\n",
        "                self.tokenizer,\n",
        "                self.attributes,\n",
        "                sample=None\n",
        "            )\n",
        "            \n",
        "    def train_dataloader(self):\n",
        "        return DataLoader(\n",
        "            self.train_dataset,\n",
        "            batch_size=self.batch_size,\n",
        "            num_workers=self.num_workers,\n",
        "            shuffle=True,\n",
        "            pin_memory=True\n",
        "        )\n",
        "\n",
        "    def val_dataloader(self):\n",
        "        return DataLoader(\n",
        "            self.val_dataset,\n",
        "            batch_size=self.batch_size,\n",
        "            num_workers=self.num_workers,\n",
        "            shuffle=False,\n",
        "            pin_memory=True\n",
        "        )"
      ]
    },
    {
      "cell_type": "code",
      "execution_count": 27,
      "metadata": {
        "id": "weSlOGEsvB0j"
      },
      "outputs": [],
      "source": [
        "ucc_data_module = UCCDataModule(\n",
        "    train_path=train_path,\n",
        "    val_path=val_path, \n",
        "    attributes=attributes,\n",
        "    batch_size=32,\n",
        "    max_token_length=128,\n",
        "    model_name='roberta-base',\n",
        "    num_workers=4\n",
        ")"
      ]
    },
    {
      "cell_type": "code",
      "execution_count": 28,
      "metadata": {
        "id": "oMSwVVq_vJPQ"
      },
      "outputs": [],
      "source": [
        "ucc_data_module.setup()"
      ]
    },
    {
      "cell_type": "code",
      "execution_count": 29,
      "metadata": {
        "id": "unF1JP_hvMnq"
      },
      "outputs": [
        {
          "data": {
            "text/plain": [
              "<torch.utils.data.dataloader.DataLoader at 0x7fb9b2445d50>"
            ]
          },
          "execution_count": 29,
          "metadata": {},
          "output_type": "execute_result"
        }
      ],
      "source": [
        "ucc_data_module.train_dataloader()"
      ]
    },
    {
      "cell_type": "code",
      "execution_count": 30,
      "metadata": {
        "id": "kCBaHGBsvQaw"
      },
      "outputs": [
        {
          "data": {
            "text/plain": [
              "312"
            ]
          },
          "execution_count": 30,
          "metadata": {},
          "output_type": "execute_result"
        }
      ],
      "source": [
        "# Number of batches (9960 // 16 = 623)\n",
        "len(ucc_data_module.train_dataloader())"
      ]
    },
    {
      "cell_type": "markdown",
      "metadata": {
        "id": "as2bbkWmwFO1"
      },
      "source": [
        "# Model"
      ]
    },
    {
      "cell_type": "code",
      "execution_count": 31,
      "metadata": {},
      "outputs": [],
      "source": [
        "class UCCClassifier(pl.LightningModule):\n",
        "    \"\"\"Multi-label classifier for UCC using RoBERTa\n",
        "    \n",
        "    Args:\n",
        "        config (Dict): Configuration dictionary containing model parameters\n",
        "    \"\"\"\n",
        "    def __init__(self, config: Dict):\n",
        "        super().__init__()\n",
        "        self.save_hyperparameters(config)\n",
        "        \n",
        "        self.pretrained_model = AutoModel.from_pretrained(\n",
        "            config['model_name'],\n",
        "            return_dict=True\n",
        "        )\n",
        "        self.hidden = nn.Linear(\n",
        "            self.pretrained_model.config.hidden_size,\n",
        "            self.pretrained_model.config.hidden_size\n",
        "        )\n",
        "        self.classifier = nn.Linear(\n",
        "            self.pretrained_model.config.hidden_size,\n",
        "            config['n_labels']\n",
        "        )\n",
        "        self.dropout = nn.Dropout(p=0.1)\n",
        "        self.loss_fn = nn.BCEWithLogitsLoss()\n",
        "\n",
        "    def forward(self, input_ids, attention_mask, labels=None):\n",
        "        outputs = self.pretrained_model(\n",
        "            input_ids=input_ids,\n",
        "            attention_mask=attention_mask\n",
        "        )\n",
        "        pooled_output = torch.mean(outputs.last_hidden_state, 1)\n",
        "        \n",
        "        hidden_output = self.dropout(F.relu(self.hidden(pooled_output)))\n",
        "        logits = self.classifier(hidden_output)\n",
        "        \n",
        "        loss = None\n",
        "        if labels is not None:\n",
        "            loss = self.loss_fn(logits, labels)\n",
        "            \n",
        "        return loss, logits\n",
        "\n",
        "    def training_step(self, batch):\n",
        "        loss, _ = self(**batch)\n",
        "        self.log(\"train_loss\", loss, prog_bar=True, logger=True)\n",
        "        return loss\n",
        "\n",
        "    def validation_step(self, batch):\n",
        "        loss, logits = self(**batch)\n",
        "        self.log(\"val_loss\", loss, prog_bar=True, logger=True)\n",
        "        return {\"val_loss\": loss, \"predictions\": logits, \"labels\": batch[\"labels\"]}\n",
        "\n",
        "    def configure_optimizers(self):\n",
        "        optimizer = AdamW(\n",
        "            self.parameters(),\n",
        "            lr=self.hparams.lr,\n",
        "            weight_decay=self.hparams.weight_decay\n",
        "        )\n",
        "        \n",
        "        scheduler = get_cosine_schedule_with_warmup(\n",
        "            optimizer,\n",
        "            num_warmup_steps=int(self.hparams.warmup * self.hparams.train_steps),\n",
        "            num_training_steps=self.hparams.train_steps\n",
        "        )\n",
        "        \n",
        "        return {\n",
        "            \"optimizer\": optimizer,\n",
        "            \"lr_scheduler\": {\n",
        "                \"scheduler\": scheduler,\n",
        "                \"interval\": \"step\"\n",
        "            }\n",
        "        }"
      ]
    },
    {
      "cell_type": "markdown",
      "metadata": {},
      "source": [
        "## Training setup"
      ]
    },
    {
      "cell_type": "code",
      "execution_count": 44,
      "metadata": {},
      "outputs": [
        {
          "name": "stderr",
          "output_type": "stream",
          "text": [
            "GPU available: True (cuda), used: True\n",
            "TPU available: False, using: 0 TPU cores\n",
            "HPU available: False, using: 0 HPUs\n"
          ]
        },
        {
          "name": "stderr",
          "output_type": "stream",
          "text": [
            "/home/azureuser/mambaforge/envs/llm/lib/python3.10/site-packages/pytorch_lightning/callbacks/model_checkpoint.py:654: Checkpoint directory /mnt/batch/tasks/shared/LS_root/mounts/clusters/mahmoud-4v100-compute/code/users/mebrahimkhani/LLM_tutorials/checkpoints exists and is not empty.\n",
            "LOCAL_RANK: 0 - CUDA_VISIBLE_DEVICES: [0,1,2,3]\n",
            "\n",
            "  | Name             | Type              | Params | Mode \n",
            "---------------------------------------------------------------\n",
            "0 | pretrained_model | RobertaModel      | 82.1 M | eval \n",
            "1 | hidden           | Linear            | 590 K  | train\n",
            "2 | classifier       | Linear            | 6.2 K  | train\n",
            "3 | dropout          | Dropout           | 0      | train\n",
            "4 | loss_fn          | BCEWithLogitsLoss | 0      | train\n",
            "---------------------------------------------------------------\n",
            "82.7 M    Trainable params\n",
            "0         Non-trainable params\n",
            "82.7 M    Total params\n",
            "330.861   Total estimated model params size (MB)\n",
            "4         Modules in train mode\n",
            "120       Modules in eval mode\n"
          ]
        },
        {
          "name": "stdout",
          "output_type": "stream",
          "text": [
            "Epoch 4: 100%|██████████| 312/312 [00:45<00:00,  6.80it/s, v_num=5, train_loss=0.197, val_loss=0.177]\n"
          ]
        }
      ],
      "source": [
        "# Set environment variable to avoid tokenizer warnings\n",
        "import os\n",
        "os.environ[\"TOKENIZERS_PARALLELISM\"] = \"false\"\n",
        "\n",
        "# Configuration\n",
        "config = {\n",
        "    'model_name': 'distilroberta-base', \n",
        "    'n_labels': len(attributes),\n",
        "    'batch_size': 32,\n",
        "    'lr': 2e-5,\n",
        "    'warmup': 0.1,\n",
        "    'weight_decay': 0.01,\n",
        "    'n_epochs': 10, \n",
        "    'train_steps': len(ucc_data_module.train_dataloader()) * 5  # total steps for 5 epochs\n",
        "}\n",
        "\n",
        "# Callbacks\n",
        "checkpoint_callback = ModelCheckpoint(\n",
        "    dirpath='checkpoints',\n",
        "    filename='ucc-roberta-{epoch:02d}-{val_loss:.2f}',\n",
        "    monitor='val_loss',\n",
        "    mode='min',\n",
        "    save_top_k=1\n",
        ")\n",
        "\n",
        "early_stopping = EarlyStopping(\n",
        "    monitor='val_loss',\n",
        "    patience=2,\n",
        "    mode='min'\n",
        ")\n",
        "\n",
        "# Logger\n",
        "logger = TensorBoardLogger(\"lightning_logs\", name=\"ucc_classifier\")\n",
        "\n",
        "# Trainer \n",
        "trainer = pl.Trainer(\n",
        "    max_epochs=config['n_epochs'],\n",
        "    accelerator='gpu',\n",
        "    devices=1,  # Use single GPU\n",
        "    callbacks=[checkpoint_callback, early_stopping],\n",
        "    logger=logger,\n",
        "    gradient_clip_val=1.0,\n",
        "    log_every_n_steps=10\n",
        ")\n",
        "\n",
        "# Model\n",
        "model = UCCClassifier(config)\n",
        "\n",
        "# Initialize the model's pooler weights from pretrained\n",
        "model.pretrained_model.init_weights()\n",
        "\n",
        "# Train\n",
        "trainer.fit(model, ucc_data_module)"
      ]
    },
    {
      "cell_type": "markdown",
      "metadata": {
        "id": "JIfqDeMPOp8q"
      },
      "source": [
        "# Predict with model"
      ]
    },
    {
      "cell_type": "code",
      "execution_count": 43,
      "metadata": {},
      "outputs": [],
      "source": [
        "def classify_raw_comments(model, dm):\n",
        "    predictions = []\n",
        "    model.eval() \n",
        "    for batch in dm.val_dataloader():\n",
        "        input_ids = batch['input_ids']\n",
        "        attention_mask = batch['attention_mask']\n",
        "        with torch.no_grad():\n",
        "            _, logits = model(input_ids, attention_mask=attention_mask)  # Unpack loss and logits\n",
        "            predictions.append(logits)\n",
        "    flattened_predictions = torch.sigmoid(torch.cat(predictions, dim=0)).cpu().numpy()\n",
        "    return flattened_predictions"
      ]
    },
    {
      "cell_type": "code",
      "execution_count": 45,
      "metadata": {
        "id": "zV65QbMOZ5aU"
      },
      "outputs": [],
      "source": [
        "predictions = classify_raw_comments(model, ucc_data_module)"
      ]
    },
    {
      "cell_type": "code",
      "execution_count": 41,
      "metadata": {
        "id": "t04aYi5GaFsv"
      },
      "outputs": [],
      "source": [
        "val_data = pd.read_csv(val_path)\n",
        "val_data['unhealthy'] = np.where(val_data['healthy'] == 1, 0, 1)\n",
        "true_labels = np.array(val_data[attributes])"
      ]
    },
    {
      "cell_type": "code",
      "execution_count": 46,
      "metadata": {
        "id": "2h6ZoDAzafnY"
      },
      "outputs": [
        {
          "data": {
            "text/plain": [
              "Text(0.5, 1.0, 'RoBERTa Trained on UCC Datatset - AUC ROC')"
            ]
          },
          "execution_count": 46,
          "metadata": {},
          "output_type": "execute_result"
        },
        {
          "data": {
            "image/png": "[encoded data removed]",
            "text/plain": [
              "<Figure size 1500x800 with 1 Axes>"
            ]
          },
          "metadata": {},
          "output_type": "display_data"
        }
      ],
      "source": [
        "from sklearn import metrics\n",
        "plt.figure(figsize=(15, 8))\n",
        "for i, attribute in enumerate(attributes):\n",
        "  fpr, tpr, _ = metrics.roc_curve(\n",
        "      true_labels[:,i].astype(int), predictions[:, i])\n",
        "  auc = metrics.roc_auc_score(\n",
        "      true_labels[:,i].astype(int), predictions[:, i])\n",
        "  plt.plot(fpr, tpr, label='%s %g' % (attribute, auc))\n",
        "plt.xlabel('False Positive Rate')\n",
        "plt.ylabel('True Positive Rate')\n",
        "plt.legend(loc='lower right')\n",
        "plt.title('RoBERTa Trained on UCC Datatset - AUC ROC')"
      ]
    }
  ],
  "metadata": {
    "accelerator": "GPU",
    "colab": {
      "gpuType": "T4",
      "include_colab_link": true,
      "provenance": []
    },
    "kernelspec": {
      "display_name": "llm",
      "language": "python",
      "name": "python3"
    },
    "language_info": {
      "codemirror_mode": {
        "name": "ipython",
        "version": 3
      },
      "file_extension": ".py",
      "mimetype": "text/x-python",
      "name": "python",
      "nbconvert_exporter": "python",
      "pygments_lexer": "ipython3",
      "version": "3.10.16"
    }
  },
  "nbformat": 4,
  "nbformat_minor": 0
}
