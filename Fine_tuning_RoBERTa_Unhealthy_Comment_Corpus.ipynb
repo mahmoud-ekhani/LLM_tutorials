{
  "cells": [
    {
      "cell_type": "markdown",
      "metadata": {
        "id": "view-in-github",
        "colab_type": "text"
      },
      "source": [
        "<a href=\"https://colab.research.google.com/github/mahmoud-ekhani/LLM_tutorials/blob/main/Fine_tuning_RoBERTa_Unhealthy_Comment_Corpus.ipynb\" target=\"_parent\"><img src=\"https://colab.research.google.com/assets/colab-badge.svg\" alt=\"Open In Colab\"/></a>"
      ]
    },
    {
      "cell_type": "markdown",
      "metadata": {
        "id": "p5Iuv7q7Dtg_"
      },
      "source": [
        "#The plan for fine-tuning RoBERTa with the UCC\n",
        "\n",
        "### 1. Set up\n",
        "- Install transformers and pytorch lightning and import required packages.\n",
        "- Loads UCC data and inspect it.\n",
        "\n",
        "### 2. Create a dataset\n",
        "\n",
        "- Load data into pytorch dataset\n",
        "\n",
        "### 3. Build the model\n",
        " - Create a new pytorch (lightning) model with the Hugging Face RoBERTa model and a multi-label classification head.\n",
        "\n",
        "### 4. Test model performance\n",
        "- Test model performance using the ROC AUC and same test-set used in the original paper."
      ]
    },
    {
      "cell_type": "code",
      "execution_count": null,
      "metadata": {
        "id": "5_e0-rwAd22e"
      },
      "outputs": [],
      "source": [
        "!nvidia-smi"
      ]
    },
    {
      "cell_type": "markdown",
      "metadata": {
        "id": "hXnkQSWWJ5dE"
      },
      "source": [
        "# Imports"
      ]
    },
    {
      "cell_type": "code",
      "execution_count": null,
      "metadata": {
        "id": "zh8fsBTEmlSd"
      },
      "outputs": [],
      "source": [
        "%pip install transformers\n",
        "%pip install pytorch-lightning\n",
        "%pip install numpy\n",
        "%pip install pandas\n",
        "%pip install matplotlib\n",
        "%pip install scikit-learn\n",
        "%pip install tensorboard\n"
      ]
    },
    {
      "cell_type": "code",
      "execution_count": null,
      "metadata": {
        "id": "j2KxatsLqQsd"
      },
      "outputs": [],
      "source": [
        "import numpy as np\n",
        "import pandas as pd\n",
        "import matplotlib.pyplot as plt"
      ]
    },
    {
      "cell_type": "code",
      "execution_count": null,
      "metadata": {
        "id": "LYHit0GicSyU"
      },
      "outputs": [],
      "source": [
        "train_path = 'data/ucc/train.csv'\n",
        "val_path = 'data/ucc/val.csv'"
      ]
    },
    {
      "cell_type": "code",
      "execution_count": null,
      "metadata": {
        "id": "_GMaDvSeoqBZ"
      },
      "outputs": [],
      "source": [
        "train_data = pd.read_csv(train_path)"
      ]
    },
    {
      "cell_type": "code",
      "execution_count": null,
      "metadata": {
        "id": "MfM4nYV4pWr2"
      },
      "outputs": [],
      "source": [
        "train_data.head(5)"
      ]
    },
    {
      "cell_type": "markdown",
      "metadata": {
        "id": "GDdLgBECpnJ8"
      },
      "source": [
        "# inspect data"
      ]
    },
    {
      "cell_type": "code",
      "execution_count": null,
      "metadata": {
        "id": "aN6M-KaApoRo"
      },
      "outputs": [],
      "source": [
        "train_data['unhealthy'] = np.where(train_data['healthy'] == 1, 0, 1)\n",
        "\n",
        "attributes = ['antagonize', 'condescending','dismissive','generalisation',\n",
        "              'generalisation_unfair','hostile','sarcastic','unhealthy']\n",
        "\n",
        "train_data[attributes].sum().plot.bar()"
      ]
    },
    {
      "cell_type": "markdown",
      "metadata": {
        "id": "ECq7VkvoqR4Q"
      },
      "source": [
        "# Dataset"
      ]
    },
    {
      "cell_type": "code",
      "execution_count": null,
      "metadata": {
        "id": "OHYq_l9vqSs_"
      },
      "outputs": [],
      "source": [
        "from torch.utils.data import Dataset"
      ]
    },
    {
      "cell_type": "code",
      "execution_count": null,
      "metadata": {
        "id": "WuDSi08sqVYe"
      },
      "outputs": [],
      "source": [
        "class UCC_Dataset(Dataset):\n",
        "\n",
        "  def __init__(self, data_path, tokenizer, attributes, max_token_len: int = 128, sample = 5000):\n",
        "    self.data_path = data_path\n",
        "    self.tokenizer = tokenizer\n",
        "    self.attributes = attributes\n",
        "    self.max_token_len = max_token_len\n",
        "    self.sample = sample\n",
        "    self._prepare_data()\n",
        "\n",
        "\n",
        "  def _prepare_data(self):\n",
        "    data = pd.read_csv(self.data_path)\n",
        "    data['unhealthy'] = np.where(data['healthy'] == 1, 0, 1)\n",
        "    if self.sample is not None:\n",
        "      unhealthy = data.loc[data[attributes].sum(axis=1) > 0]\n",
        "      clean = data.loc[data[attributes].sum(axis=1) == 0]\n",
        "      self.data = pd.concat([unhealthy, clean.sample(self.sample, random_state=42)])\n",
        "    else:\n",
        "      self.data = data\n",
        "\n",
        "  def __len__(self):\n",
        "    return len(self.data)\n",
        "\n",
        "  def __getitem__(self, index):\n",
        "    item = self.data.iloc[index]\n",
        "    comment = str(item.comment)\n",
        "    attributes = torch.FloatTensor(self.data.iloc[index, self.data.columns.get_indexer(self.attributes)])\n",
        "    tokens = self.tokenizer.encode_plus(comment,\n",
        "                                        add_special_tokens=True,\n",
        "                                        return_tensors='pt',\n",
        "                                        truncation=True,\n",
        "                                        padding='max_length',\n",
        "                                        max_length=self.max_token_len,\n",
        "                                        return_attention_mask = True)\n",
        "    return {'input_ids': tokens.input_ids.flatten(), 'attention_mask': tokens.attention_mask.flatten(), 'labels': attributes}\n"
      ]
    },
    {
      "cell_type": "code",
      "execution_count": null,
      "metadata": {
        "id": "N5TfbQjBrshN"
      },
      "outputs": [],
      "source": [
        "import torch\n",
        "from transformers import AutoTokenizer\n",
        "model_name = 'roberta-base'\n",
        "tokenizer = AutoTokenizer.from_pretrained(model_name)\n",
        "ucc_ds = UCC_Dataset(train_path, tokenizer, attributes=attributes)\n",
        "ucc_ds_val = UCC_Dataset(val_path, tokenizer, attributes=attributes, sample=None)"
      ]
    },
    {
      "cell_type": "code",
      "execution_count": null,
      "metadata": {
        "id": "SIgBWoKvLWUj"
      },
      "outputs": [],
      "source": [
        "ucc_ds.__getitem__(0)"
      ]
    },
    {
      "cell_type": "code",
      "execution_count": null,
      "metadata": {
        "id": "AxG1q2R5sKe9"
      },
      "outputs": [],
      "source": [
        "ucc_ds.__getitem__(0)['labels'].shape, ucc_ds.__getitem__(0)['input_ids'].shape, ucc_ds.__getitem__(0)['attention_mask'].shape"
      ]
    },
    {
      "cell_type": "code",
      "execution_count": null,
      "metadata": {
        "id": "E3piF8-ScLkB"
      },
      "outputs": [],
      "source": [
        "len(ucc_ds)"
      ]
    },
    {
      "cell_type": "code",
      "execution_count": null,
      "metadata": {
        "id": "vdnNmd2ScreK"
      },
      "outputs": [],
      "source": [
        "len(ucc_ds_val)"
      ]
    },
    {
      "cell_type": "markdown",
      "metadata": {
        "id": "gUr-j36ctWH-"
      },
      "source": [
        "# Data module"
      ]
    },
    {
      "cell_type": "code",
      "execution_count": null,
      "metadata": {
        "id": "fdPf54AatXaX"
      },
      "outputs": [],
      "source": [
        "import pytorch_lightning as pl\n",
        "from torch.utils.data import DataLoader"
      ]
    },
    {
      "cell_type": "code",
      "execution_count": null,
      "metadata": {
        "id": "k7PxkuevtkpS"
      },
      "outputs": [],
      "source": [
        "class UCC_Data_Module(pl.LightningDataModule):\n",
        "\n",
        "  def __init__(self, train_path, val_path, attributes, batch_size: int = 16, max_token_length: int = 128,  model_name='roberta-base'):\n",
        "    super().__init__()\n",
        "    self.train_path = train_path\n",
        "    self.val_path = val_path\n",
        "    self.attributes = attributes\n",
        "    self.batch_size = batch_size\n",
        "    self.max_token_length = max_token_length\n",
        "    self.model_name = model_name\n",
        "    self.tokenizer = AutoTokenizer.from_pretrained(model_name)\n",
        "\n",
        "  def setup(self, stage = None):\n",
        "    if stage in (None, \"fit\"):\n",
        "      self.train_dataset = UCC_Dataset(self.train_path, attributes=self.attributes, tokenizer=self.tokenizer)\n",
        "      self.val_dataset = UCC_Dataset(self.val_path, attributes=self.attributes, tokenizer=self.tokenizer, sample=None)\n",
        "    if stage == 'predict':\n",
        "      self.val_dataset = UCC_Dataset(self.val_path, attributes=self.attributes, tokenizer=self.tokenizer, sample=None)\n",
        "\n",
        "  def train_dataloader(self):\n",
        "    return DataLoader(self.train_dataset, batch_size = self.batch_size, num_workers=4, shuffle=True)\n",
        "\n",
        "  def val_dataloader(self):\n",
        "    return DataLoader(self.val_dataset, batch_size = self.batch_size, num_workers=4, shuffle=False)\n",
        "\n",
        "  def predict_dataloader(self):\n",
        "    return DataLoader(self.val_dataset, batch_size = self.batch_size, num_workers=4, shuffle=False)\n"
      ]
    },
    {
      "cell_type": "code",
      "execution_count": null,
      "metadata": {
        "id": "weSlOGEsvB0j"
      },
      "outputs": [],
      "source": [
        "ucc_data_module = UCC_Data_Module(train_path, val_path, attributes=attributes)"
      ]
    },
    {
      "cell_type": "code",
      "execution_count": null,
      "metadata": {
        "id": "oMSwVVq_vJPQ"
      },
      "outputs": [],
      "source": [
        "ucc_data_module.setup()"
      ]
    },
    {
      "cell_type": "code",
      "execution_count": null,
      "metadata": {
        "id": "unF1JP_hvMnq"
      },
      "outputs": [],
      "source": [
        "ucc_data_module.train_dataloader()"
      ]
    },
    {
      "cell_type": "code",
      "execution_count": null,
      "metadata": {
        "id": "kCBaHGBsvQaw"
      },
      "outputs": [],
      "source": [
        "# Number of batches (9960 // 16 = 623)\n",
        "len(ucc_data_module.train_dataloader())"
      ]
    },
    {
      "cell_type": "markdown",
      "metadata": {
        "id": "as2bbkWmwFO1"
      },
      "source": [
        "# Model"
      ]
    },
    {
      "cell_type": "code",
      "execution_count": null,
      "metadata": {
        "id": "pJ7T-xtnwGpw"
      },
      "outputs": [],
      "source": [
        "from transformers import AutoModel, AdamW, get_cosine_schedule_with_warmup\n",
        "import torch.nn as nn\n",
        "import math\n",
        "from torchmetrics.functional.classification import auroc\n",
        "import torch.nn.functional as F"
      ]
    },
    {
      "cell_type": "code",
      "execution_count": null,
      "metadata": {
        "id": "n2TOOz9LOPyo"
      },
      "outputs": [],
      "source": [
        "class UCC_Comment_Classifier(pl.LightningModule):\n",
        "\n",
        "    def __init__(self, config: dict):\n",
        "        super().__init__()\n",
        "        self.config = config\n",
        "        self.pretrained_model = AutoModel.from_pretrained(config['model_name'], return_dict=True)\n",
        "        self.hidden = nn.Linear(self.pretrained_model.config.hidden_size, self.pretrained_model.config.hidden_size)\n",
        "        self.classifier = nn.Linear(self.pretrained_model.config.hidden_size, self.config['n_labels'])\n",
        "        torch.nn.init.xavier_uniform_(self.hidden.weight)\n",
        "        torch.nn.init.xavier_uniform_(self.classifier.weight)\n",
        "        self.loss_fun = nn.BCEWithLogitsLoss(reduction='mean') # Mean reduces this to a single number, combines logits, sigmoids, and cross-entropy\n",
        "        self.dropout = nn.Dropout() # randomly turns on and off some nodes during each round of training - prevents over-fitting (regularization)\n",
        "\n",
        "    def forward(self, input_ids, attention_mask, labels=None):\n",
        "        # roberta model\n",
        "        output = self.pretrained_model(input_ids=input_ids, attention_mask=attention_mask)\n",
        "        pooled_output =  torch.mean(output.last_hidden_state, 1) # mean over the first dimension (tokens)\n",
        "        # classification layers\n",
        "        hidden_output = self.hidden(pooled_output)\n",
        "        hidden_output = self.dropout(hidden_output)\n",
        "        hidden_output = F.relu(hidden_output)\n",
        "        logits = self.classifier(hidden_output)\n",
        "        # calculate the loss\n",
        "        loss = 0\n",
        "        if labels is not None:\n",
        "            loss = self.loss_fun(logits.view(-1, self.config['n_labels']), labels.view(-1, self.config['n_labels']))\n",
        "        return loss, logits\n",
        "\n",
        "    def training_step(self, batch, batch_index):\n",
        "        loss, logits = self(**batch)\n",
        "        self.log(\"train loss,\", loss, prog_bar=True, logger=True)\n",
        "        return {\"loss\": loss, \"predictions\": logits, \"labels\": batch['labels']}\n",
        "\n",
        "    def validation_step(self, batch, batch_index):\n",
        "        loss, logits = self(**batch)\n",
        "        self.log(\"validation loss,\", loss, prog_bar=True, logger=True)\n",
        "        return {\"val_loss\": loss, \"predictions\": logits, \"labels\": batch['labels']}\n",
        "\n",
        "    def predict_step(self, batch, batch_index):\n",
        "        _, logits = self(**batch)\n",
        "        return logits\n",
        "\n",
        "    def configure_optimizers(self):\n",
        "        optimizer = AdamW(self.parameters(), lr=self.config['lr'], weight_decay=self.config['weight_decay'])\n",
        "        total_steps = self.config['train_size'] // self.config['batch_size']\n",
        "        warmup_steps = math.floor(total_steps * self.config['warmup'])\n",
        "        scheduler = get_cosine_schedule_with_warmup(optimizer, warmup_steps, total_steps)\n",
        "        return [optimizer], [scheduler]\n",
        ""
      ]
    },
    {
      "cell_type": "code",
      "execution_count": null,
      "metadata": {
        "id": "ioZPU0CCziRN"
      },
      "outputs": [],
      "source": [
        "config = {\n",
        "    'model_name': 'distilroberta-base',\n",
        "    'n_labels': len(attributes),\n",
        "    'batch_size': 128,\n",
        "    'lr': 1.5e-6,\n",
        "    'warmup': 0.2,\n",
        "    'train_size': len(ucc_data_module.train_dataloader()),\n",
        "    'weight_decay': 0.001,\n",
        "    'n_epochs': 1\n",
        "}\n",
        "\n",
        "model = UCC_Comment_Classifier(config)"
      ]
    },
    {
      "cell_type": "code",
      "execution_count": null,
      "metadata": {
        "id": "o0KK_ffoz_dx"
      },
      "outputs": [],
      "source": [
        "idx=0\n",
        "input_ids = ucc_ds.__getitem__(idx)['input_ids']\n",
        "attention_mask = ucc_ds.__getitem__(idx)['attention_mask']\n",
        "labels = ucc_ds.__getitem__(idx)['labels']\n",
        "model.cpu()\n",
        "loss, output = model(input_ids.unsqueeze(dim=0), attention_mask.unsqueeze(dim=0), labels.unsqueeze(dim=0))\n",
        "print(loss)\n",
        "print(labels.shape, output.shape, output.detach().numpy())"
      ]
    },
    {
      "cell_type": "markdown",
      "metadata": {
        "id": "pOeSkQmg06M0"
      },
      "source": [
        " # train model"
      ]
    },
    {
      "cell_type": "code",
      "execution_count": null,
      "metadata": {
        "id": "SYNN5lgq07sd"
      },
      "outputs": [],
      "source": [
        "# datamodule\n",
        "ucc_data_module = UCC_Data_Module(train_path, val_path, attributes=attributes, batch_size=config['batch_size'])\n",
        "ucc_data_module.setup()\n",
        "\n",
        "# model\n",
        "model = UCC_Comment_Classifier(config)\n",
        "\n",
        "# trainer and fit\n",
        "trainer = pl.Trainer(max_epochs=config['n_epochs'], num_sanity_val_steps=50)\n",
        "trainer.fit(model, ucc_data_module)\n"
      ]
    },
    {
      "cell_type": "code",
      "execution_count": null,
      "metadata": {
        "id": "nt7e_jxh1O1_"
      },
      "outputs": [],
      "source": [
        "%load_ext tensorboard\n",
        "%tensorboard --logdir ./lightning_logs/"
      ]
    },
    {
      "cell_type": "markdown",
      "metadata": {
        "id": "JIfqDeMPOp8q"
      },
      "source": [
        "# Predict with model"
      ]
    },
    {
      "cell_type": "code",
      "execution_count": null,
      "metadata": {
        "id": "nU7ylR8lZZta"
      },
      "outputs": [],
      "source": [
        "# method to convert list of comments into predictions for each comment\n",
        "def classify_raw_comments(model, dm):\n",
        "  predictions = trainer.predict(model, datamodule=dm)\n",
        "  flattened_predictions = np.stack([torch.sigmoid(torch.Tensor(p)) for batch in predictions for p in batch])\n",
        "  return flattened_predictions"
      ]
    },
    {
      "cell_type": "code",
      "execution_count": null,
      "metadata": {
        "id": "zV65QbMOZ5aU"
      },
      "outputs": [],
      "source": [
        "predictions = classify_raw_comments(model, ucc_data_module)"
      ]
    },
    {
      "cell_type": "code",
      "execution_count": null,
      "metadata": {
        "id": "t04aYi5GaFsv"
      },
      "outputs": [],
      "source": [
        "val_data = pd.read_csv(val_path)\n",
        "val_data['unhealthy'] = np.where(val_data['healthy'] == 1, 0, 1)\n",
        "true_labels = np.array(val_data[attributes])"
      ]
    },
    {
      "cell_type": "code",
      "execution_count": null,
      "metadata": {
        "id": "2h6ZoDAzafnY"
      },
      "outputs": [],
      "source": [
        "from sklearn import metrics\n",
        "plt.figure(figsize=(15, 8))\n",
        "for i, attribute in enumerate(attributes):\n",
        "  fpr, tpr, _ = metrics.roc_curve(\n",
        "      true_labels[:,i].astype(int), predictions[:, i])\n",
        "  auc = metrics.roc_auc_score(\n",
        "      true_labels[:,i].astype(int), predictions[:, i])\n",
        "  plt.plot(fpr, tpr, label='%s %g' % (attribute, auc))\n",
        "plt.xlabel('False Positive Rate')\n",
        "plt.ylabel('True Positive Rate')\n",
        "plt.legend(loc='lower right')\n",
        "plt.title('RoBERTa Trained on UCC Datatset - AUC ROC')"
      ]
    },
    {
      "cell_type": "code",
      "execution_count": null,
      "metadata": {
        "id": "S0iOiwAy4nhe"
      },
      "outputs": [],
      "source": []
    }
  ],
  "metadata": {
    "accelerator": "GPU",
    "colab": {
      "gpuType": "T4",
      "provenance": [],
      "include_colab_link": true
    },
    "kernelspec": {
      "display_name": "llm",
      "language": "python",
      "name": "python3"
    },
    "language_info": {
      "codemirror_mode": {
        "name": "ipython",
        "version": 3
      },
      "file_extension": ".py",
      "mimetype": "text/x-python",
      "name": "python",
      "nbconvert_exporter": "python",
      "pygments_lexer": "ipython3",
      "version": "3.10.16"
    }
  },
  "nbformat": 4,
  "nbformat_minor": 0
}